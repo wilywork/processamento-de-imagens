{
  "nbformat": 4,
  "nbformat_minor": 0,
  "metadata": {
    "colab": {
      "provenance": [],
      "collapsed_sections": [],
      "authorship_tag": "ABX9TyPV5Dwtst5V8gNKksvEOzOw",
      "include_colab_link": true
    },
    "kernelspec": {
      "name": "python3",
      "display_name": "Python 3"
    },
    "language_info": {
      "name": "python"
    }
  },
  "cells": [
    {
      "cell_type": "markdown",
      "metadata": {
        "id": "view-in-github",
        "colab_type": "text"
      },
      "source": [
        "<a href=\"https://colab.research.google.com/github/wilywork/processamento-de-imagens/blob/main/transformada_FFT.ipynb\" target=\"_parent\"><img src=\"https://colab.research.google.com/assets/colab-badge.svg\" alt=\"Open In Colab\"/></a>"
      ]
    },
    {
      "cell_type": "code",
      "execution_count": 25,
      "metadata": {
        "id": "erRN_BBVkDQg"
      },
      "outputs": [],
      "source": [
        "import numpy as np\n",
        "import math\n",
        "import cmath\n",
        "import cv2 as cv\n",
        "import cv2\n",
        "from matplotlib import pyplot as plt\n",
        "from google.colab.patches import cv2_imshow\n",
        "from PIL import Image"
      ]
    },
    {
      "cell_type": "code",
      "source": [
        "def criarMatriz(altura, largura, canaisCores):\n",
        "  cor = list()\n",
        "  if canaisCores == 1: #Escala de cinza\n",
        "    cor = (255)\n",
        "  elif canaisCores == 2: #BG\n",
        "    cor = (255, 0)\n",
        "  elif canaisCores == 3: #BGR\n",
        "    cor = (255, 0, 255)\n",
        "  else: #BGRA\n",
        "    cor = (255, 0, 255, 0)\n",
        "  imagem = np.full((altura, largura, canaisCores), cor, dtype=np.uint8)\n",
        "  return imagem"
      ],
      "metadata": {
        "id": "7LargkA_o7ai"
      },
      "execution_count": 16,
      "outputs": []
    },
    {
      "cell_type": "code",
      "source": [
        "def escalaCinza(img):\n",
        "  imgCinza = criarMatriz(img.shape[0], img.shape[1], 1)\n",
        "  for i in range(img.shape[0]):\n",
        "    for j in range(img.shape[1]):\n",
        "      cinza = img[i, j, 0] * 0.0722 + img[i, j, 1] * 0.7152 + img[i, j, 2] * 0.2126\n",
        "      imgCinza[i, j] = [cinza]\n",
        "  return imgCinza"
      ],
      "metadata": {
        "id": "PyF9JejQpAvu"
      },
      "execution_count": 15,
      "outputs": []
    },
    {
      "cell_type": "code",
      "source": [
        "def repEscalaLog(img):\n",
        "  newImg = np.absolute(img)\n",
        "  for i in range(newImg.shape[0]):\n",
        "    for j in range(newImg.shape[1]):\n",
        "      # print('AT: ' + str(newImg[i,j]))\n",
        "      newImg[i,j] = np.log10((1 + newImg[i,j]))\n",
        "      # print('DP: ' + str(newImg[i,j]))\n",
        "  return newImg"
      ],
      "metadata": {
        "id": "qCbs6sHOpFye"
      },
      "execution_count": 8,
      "outputs": []
    },
    {
      "cell_type": "code",
      "source": [
        "def normalizaImagem(img):\n",
        "  imgCinza = criarMatriz(img.shape[0], img.shape[1], 1)\n",
        "  min = np.amin(img)\n",
        "  max = np.max(img)\n",
        "  for i in range(img.shape[0]):\n",
        "    for j in range(img.shape[1]):\n",
        "      cinza = int((((img[i, j] - min)/(max))) * 255)\n",
        "      imgCinza[i, j] = [cinza]\n",
        "  return imgCinza"
      ],
      "metadata": {
        "id": "rjfYVM2KpLAi"
      },
      "execution_count": 9,
      "outputs": []
    },
    {
      "cell_type": "code",
      "source": [
        "image = cv.imread('https://raw.githubusercontent.com/wilywork/processamento-de-imagens/main/lenaPoderosa.png', cv2.COLOR_BGR2RGB)\n",
        "#image_rgb = cv2.cvtColor(image, cv2.COLOR_BGR2RGB)\n",
        "cv2_imshow(image)\n"
      ],
      "metadata": {
        "colab": {
          "base_uri": "https://localhost:8080/",
          "height": 304
        },
        "id": "x_J7YRMWpNjY",
        "outputId": "7ffb55cd-48c3-4afe-9fb8-0a3cb900ff0a"
      },
      "execution_count": 38,
      "outputs": [
        {
          "output_type": "error",
          "ename": "AttributeError",
          "evalue": "ignored",
          "traceback": [
            "\u001b[0;31m---------------------------------------------------------------------------\u001b[0m",
            "\u001b[0;31mAttributeError\u001b[0m                            Traceback (most recent call last)",
            "\u001b[0;32m<ipython-input-38-74f9336f885f>\u001b[0m in \u001b[0;36m<module>\u001b[0;34m\u001b[0m\n\u001b[1;32m      1\u001b[0m \u001b[0mimage\u001b[0m \u001b[0;34m=\u001b[0m \u001b[0mcv\u001b[0m\u001b[0;34m.\u001b[0m\u001b[0mimread\u001b[0m\u001b[0;34m(\u001b[0m\u001b[0;34m'https://raw.githubusercontent.com/wilywork/processamento-de-imagens/main/lenaPoderosa.png'\u001b[0m\u001b[0;34m,\u001b[0m \u001b[0mcv2\u001b[0m\u001b[0;34m.\u001b[0m\u001b[0mCOLOR_BGR2RGB\u001b[0m\u001b[0;34m)\u001b[0m\u001b[0;34m\u001b[0m\u001b[0;34m\u001b[0m\u001b[0m\n\u001b[0;32m----> 2\u001b[0;31m \u001b[0mcv2_imshow\u001b[0m\u001b[0;34m(\u001b[0m\u001b[0mimage\u001b[0m\u001b[0;34m)\u001b[0m\u001b[0;34m\u001b[0m\u001b[0;34m\u001b[0m\u001b[0m\n\u001b[0m",
            "\u001b[0;32m/usr/local/lib/python3.7/dist-packages/google/colab/patches/__init__.py\u001b[0m in \u001b[0;36mcv2_imshow\u001b[0;34m(a)\u001b[0m\n\u001b[1;32m     16\u001b[0m       \u001b[0mimage\u001b[0m\u001b[0;34m.\u001b[0m\u001b[0;34m\u001b[0m\u001b[0;34m\u001b[0m\u001b[0m\n\u001b[1;32m     17\u001b[0m   \"\"\"\n\u001b[0;32m---> 18\u001b[0;31m   \u001b[0ma\u001b[0m \u001b[0;34m=\u001b[0m \u001b[0ma\u001b[0m\u001b[0;34m.\u001b[0m\u001b[0mclip\u001b[0m\u001b[0;34m(\u001b[0m\u001b[0;36m0\u001b[0m\u001b[0;34m,\u001b[0m \u001b[0;36m255\u001b[0m\u001b[0;34m)\u001b[0m\u001b[0;34m.\u001b[0m\u001b[0mastype\u001b[0m\u001b[0;34m(\u001b[0m\u001b[0;34m'uint8'\u001b[0m\u001b[0;34m)\u001b[0m\u001b[0;34m\u001b[0m\u001b[0;34m\u001b[0m\u001b[0m\n\u001b[0m\u001b[1;32m     19\u001b[0m   \u001b[0;31m# cv2 stores colors as BGR; convert to RGB\u001b[0m\u001b[0;34m\u001b[0m\u001b[0;34m\u001b[0m\u001b[0;34m\u001b[0m\u001b[0m\n\u001b[1;32m     20\u001b[0m   \u001b[0;32mif\u001b[0m \u001b[0ma\u001b[0m\u001b[0;34m.\u001b[0m\u001b[0mndim\u001b[0m \u001b[0;34m==\u001b[0m \u001b[0;36m3\u001b[0m\u001b[0;34m:\u001b[0m\u001b[0;34m\u001b[0m\u001b[0;34m\u001b[0m\u001b[0m\n",
            "\u001b[0;31mAttributeError\u001b[0m: 'NoneType' object has no attribute 'clip'"
          ]
        }
      ]
    }
  ]
}